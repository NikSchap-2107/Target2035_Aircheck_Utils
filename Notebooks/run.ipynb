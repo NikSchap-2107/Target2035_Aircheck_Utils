{
  "nbformat": 4,
  "nbformat_minor": 0,
  "metadata": {
    "colab": {
      "provenance": [],
      "authorship_tag": "ABX9TyP1UsFGpUbyTGw9JdKWOB1J"
    },
    "kernelspec": {
      "name": "python3",
      "display_name": "Python 3"
    },
    "language_info": {
      "name": "python"
    }
  },
  "cells": [
    {
      "cell_type": "code",
      "execution_count": null,
      "metadata": {
        "id": "Ydb-iQTheTgr"
      },
      "outputs": [],
      "source": [
        "import sys\n",
        "sys.path.append(\"../ReadingParquetFiles\")\n",
        "from read_parquet_utils import read_parquet_file\n",
        "from sklearn.model_selection import train_test_split\n",
        "import numpy as np\n",
        "\n",
        "data_file = \"WDR91.parquet\"\n",
        "df = read_parquet_file(data_file, columns = ['ECFP4', 'LABEL'])"
      ]
    }
  ]
}