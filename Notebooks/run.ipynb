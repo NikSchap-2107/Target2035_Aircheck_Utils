{
  "nbformat": 4,
  "nbformat_minor": 0,
  "metadata": {
    "colab": {
      "provenance": [],
      "authorship_tag": "ABX9TyPtrQqJHnxJdF3rKvWlahnp"
    },
    "kernelspec": {
      "name": "python3",
      "display_name": "Python 3"
    },
    "language_info": {
      "name": "python"
    }
  },
  "cells": [
    {
      "cell_type": "code",
      "source": [
        "! git clone https://github.com/jimmyjbling/SGC-DEL-ML-WDR91.git\n",
        "! git clone https://github.com/NikSchap-2107/Target2035_Aircheck_Utils.git"
      ],
      "metadata": {
        "id": "uXCRxPsm8TxS"
      },
      "execution_count": null,
      "outputs": []
    },
    {
      "cell_type": "code",
      "execution_count": null,
      "metadata": {
        "id": "Ydb-iQTheTgr"
      },
      "outputs": [],
      "source": [
        "import sys\n",
        "sys.path.append(\"/content/Target2035_Aircheck_Utils/ReadParquetFiles\")\n",
        "sys.path.append(\"/content/SGC-DEL-ML-WDR91/scripts\")\n",
        "from read_parquet_utils import read_parquet_file\n",
        "from sklearn.model_selection import train_test_split\n",
        "import numpy as np\n",
        "\n",
        "data_file = \"/content/Target2035_Aircheck_Utils/Data/WDR91.parquet\"\n",
        "df = read_parquet_file(data_file, columns = ['ECFP4', 'LABEL'])"
      ]
    }
  ]
}